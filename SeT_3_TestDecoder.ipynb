{
 "cells": [
  {
   "cell_type": "markdown",
   "metadata": {},
   "source": [
    "# SeT_3 test decoder notebook\n",
    "\n",
    "Author: Jason Jiang (Xunfun Lee)\n",
    "\n",
    "Data: 2024.1.16\n",
    "\n",
    "Since i am not sure if the architecture of the decoder is correct, i write this notebook to test the decoder."
   ]
  },
  {
   "cell_type": "code",
   "execution_count": 1,
   "metadata": {},
   "outputs": [
    {
     "name": "stdout",
     "output_type": "stream",
     "text": [
      "GPU: cuda\n",
      "CUDA device numbers:  1\n"
     ]
    }
   ],
   "source": [
    "from PythonScripts.transformer import DecoderV1\n",
    "from PythonScripts.utility import SetDevice\n",
    "\n",
    "device = SetDevice()"
   ]
  },
  {
   "cell_type": "code",
   "execution_count": 2,
   "metadata": {},
   "outputs": [],
   "source": [
    "decoder_instance = DecoderV1(device=device).to(device)"
   ]
  },
  {
   "cell_type": "code",
   "execution_count": 3,
   "metadata": {},
   "outputs": [],
   "source": [
    "import torch\n",
    "\n",
    "output_encoder = torch.rand((1, 12, 768)).to(device)\n",
    "input_decoder = torch.rand((1, 3000, 1)).to(device)"
   ]
  },
  {
   "cell_type": "markdown",
   "metadata": {},
   "source": [
    "## training mode"
   ]
  },
  {
   "cell_type": "code",
   "execution_count": 4,
   "metadata": {},
   "outputs": [
    {
     "name": "stdout",
     "output_type": "stream",
     "text": [
      "DecoderV1::forward:Training mode\n",
      "No.0 patch is using teacher forcing\n",
      "No.1 patch is using self generated\n",
      "No.2 patch is using self generated\n",
      "No.3 patch is using teacher forcing\n",
      "No.4 patch is using self generated\n",
      "No.5 patch is using teacher forcing\n",
      "No.6 patch is using teacher forcing\n",
      "No.7 patch is using self generated\n",
      "No.8 patch is using self generated\n",
      "No.9 patch is using self generated\n",
      "No.10 patch is using teacher forcing\n",
      "No.11 patch is using teacher forcing\n",
      "DecoderV1:: output.shape: torch.Size([1, 12, 768])\n"
     ]
    }
   ],
   "source": [
    "output_decoder_train = decoder_instance(output_encoder=output_encoder, decoder_input=input_decoder)"
   ]
  },
  {
   "cell_type": "code",
   "execution_count": 5,
   "metadata": {},
   "outputs": [
    {
     "data": {
      "text/plain": [
       "torch.Size([1, 12, 768])"
      ]
     },
     "execution_count": 5,
     "metadata": {},
     "output_type": "execute_result"
    }
   ],
   "source": [
    "output_decoder_train.shape"
   ]
  },
  {
   "cell_type": "markdown",
   "metadata": {},
   "source": [
    "## inference mode"
   ]
  },
  {
   "cell_type": "code",
   "execution_count": 6,
   "metadata": {},
   "outputs": [
    {
     "name": "stdout",
     "output_type": "stream",
     "text": [
      "DecoderV1::forward:Inference mode\n"
     ]
    },
    {
     "name": "stdout",
     "output_type": "stream",
     "text": [
      "DecoderV1:: output.shape: torch.Size([1, 12, 768])\n"
     ]
    }
   ],
   "source": [
    "output_decoder_inference = decoder_instance(output_encoder=output_encoder, decoder_input=None)"
   ]
  },
  {
   "cell_type": "code",
   "execution_count": 7,
   "metadata": {},
   "outputs": [
    {
     "data": {
      "text/plain": [
       "torch.Size([1, 12, 768])"
      ]
     },
     "execution_count": 7,
     "metadata": {},
     "output_type": "execute_result"
    }
   ],
   "source": [
    "output_decoder_inference.shape"
   ]
  },
  {
   "cell_type": "markdown",
   "metadata": {},
   "source": [
    "### Test Decoder Block"
   ]
  },
  {
   "cell_type": "code",
   "execution_count": 8,
   "metadata": {},
   "outputs": [],
   "source": [
    "# test one seq\n",
    "output_encoder_seq_one = torch.rand((1, 12, 768)).to(device)\n",
    "input_decoder_seq_one = torch.rand((1, 1, 768)).to(device)"
   ]
  },
  {
   "cell_type": "code",
   "execution_count": 9,
   "metadata": {},
   "outputs": [],
   "source": [
    "from PythonScripts.transformer import DecoderBlock"
   ]
  },
  {
   "cell_type": "code",
   "execution_count": 10,
   "metadata": {},
   "outputs": [],
   "source": [
    "DecoderBlock_instance = DecoderBlock().to(device)"
   ]
  },
  {
   "cell_type": "code",
   "execution_count": 11,
   "metadata": {},
   "outputs": [
    {
     "data": {
      "text/plain": [
       "torch.Size([1, 1, 768])"
      ]
     },
     "execution_count": 11,
     "metadata": {},
     "output_type": "execute_result"
    }
   ],
   "source": [
    "output_decoder_block, mha, cmha = DecoderBlock_instance(input_decoder_seq_one, input_decoder_seq_one, input_decoder_seq_one, output_encoder_seq_one)\n",
    "\n",
    "output_decoder_block.shape"
   ]
  },
  {
   "cell_type": "markdown",
   "metadata": {},
   "source": [
    "---------"
   ]
  }
 ],
 "metadata": {
  "kernelspec": {
   "display_name": "ml",
   "language": "python",
   "name": "python3"
  },
  "language_info": {
   "codemirror_mode": {
    "name": "ipython",
    "version": 3
   },
   "file_extension": ".py",
   "mimetype": "text/x-python",
   "name": "python",
   "nbconvert_exporter": "python",
   "pygments_lexer": "ipython3",
   "version": "3.10.12"
  }
 },
 "nbformat": 4,
 "nbformat_minor": 2
}
